{
 "cells": [
  {
   "cell_type": "code",
   "execution_count": 1,
   "metadata": {},
   "outputs": [],
   "source": [
    "%reload_ext autoreload\n",
    "%autoreload 2\n",
    "%matplotlib inline\n",
    "\n",
    "import datetime\n",
    "import logging, sys\n",
    "\n",
    "from sentinelhub import MimeType, CRS, BBox, SentinelHubSession, SHConfig\n",
    "from sentinelhub import DownloadRequest, MimeType # download_data\n",
    "from sentinelhub.sentinelhub_rate_limit import SentinelHubRateLimit\n",
    "\n",
    "from sentinelhub.download.sentinelhub_client import SentinelHubDownloadClient\n",
    "\n",
    "logging.basicConfig(stream=sys.stdout)\n",
    "logging.getLogger(\"eolearn.io.processing_api\").setLevel(logging.DEBUG)\n",
    "logging.getLogger(\"sentinelhub.sentinelhub_session\").setLevel(logging.DEBUG)\n",
    "\n",
    "url = 'https://services.sentinel-hub.com/api/v1/process'\n",
    "payload = {\n",
    "    \"input\": {\n",
    "        \"bounds\": {\n",
    "            \"properties\": {\n",
    "                \"crs\": \"http://www.opengis.net/def/crs/OGC/1.3/CRS84\"\n",
    "            },\n",
    "            \"bbox\": [\n",
    "                13.822174072265625,\n",
    "                45.85080395917834,\n",
    "                14.55963134765625,\n",
    "                46.29191774991382\n",
    "            ]\n",
    "        },\n",
    "        \"data\": [\n",
    "            {\n",
    "                \"type\": \"S2L1C\",\n",
    "                \"dataFilter\": {\n",
    "                    \"timeRange\": {\n",
    "                        \"from\": \"2018-10-01T00:00:00Z\",\n",
    "                        \"to\": \"2018-12-31T00:00:00Z\"\n",
    "                    }\n",
    "                }\n",
    "            }\n",
    "        ]\n",
    "    },\n",
    "    \"output\": {\n",
    "        \"width\": 512,\n",
    "        \"height\": 512\n",
    "    },\n",
    "    'evalscript': \"\"\"//VERSION=3\n",
    "\n",
    "function setup() {\n",
    "  return {\n",
    "    input: [\"B02\", \"B03\", \"B04\"],\n",
    "    output: { bands: 3 }\n",
    "  }\n",
    "}\n",
    "\n",
    "function evaluatePixel(sample) {\n",
    "  return [2.5 * sample.B04, 2.5 * sample.B03, 2.5 * sample.B02]\n",
    "}\"\"\"\n",
    "}\n",
    "\n",
    "session = SentinelHubSession()\n",
    "headers = {\"accept\": \"application/tar\"}\n",
    "\n",
    "# request_list = [DownloadRequest(url=url, post_values=payload, request_type='POST', session=session,\n",
    "#                                 save_response=False) for _ in range(10)]\n",
    "\n",
    "request_list = [DownloadRequest(url=url, post_values=payload, request_type='POST', session=session, \n",
    "                                data_type=MimeType.TAR, headers=headers,\n",
    "                                save_response=True, data_folder='.', filename='test.tar') for _ in range(1)]"
   ]
  },
  {
   "cell_type": "code",
   "execution_count": 3,
   "metadata": {
    "scrolled": false
   },
   "outputs": [
    {
     "name": "stdout",
     "output_type": "stream",
     "text": [
      "CPU times: user 80 ms, sys: 12 ms, total: 92 ms\n",
      "Wall time: 1.87 s\n"
     ]
    }
   ],
   "source": [
    "%%time\n",
    "\n",
    "client = SentinelHubDownloadClient(redownload=True)\n",
    "_ = client.download_data(request_list)"
   ]
  },
  {
   "cell_type": "code",
   "execution_count": 3,
   "metadata": {},
   "outputs": [
    {
     "ename": "SyntaxError",
     "evalue": "unexpected EOF while parsing (<ipython-input-3-b488250974f9>, line 1)",
     "output_type": "error",
     "traceback": [
      "\u001b[0;36m  File \u001b[0;32m\"<ipython-input-3-b488250974f9>\"\u001b[0;36m, line \u001b[0;32m1\u001b[0m\n\u001b[0;31m    MimeType.canonical_extension(MimeType.TAR\u001b[0m\n\u001b[0m                                             ^\u001b[0m\n\u001b[0;31mSyntaxError\u001b[0m\u001b[0;31m:\u001b[0m unexpected EOF while parsing\n"
     ]
    }
   ],
   "source": [
    "MimeType.canonical_extension(MimeType.TAR"
   ]
  },
  {
   "cell_type": "code",
   "execution_count": null,
   "metadata": {},
   "outputs": [],
   "source": []
  },
  {
   "cell_type": "code",
   "execution_count": null,
   "metadata": {},
   "outputs": [],
   "source": [
    "from sentinelhub import MimeType\n",
    "\n",
    "MimeType('application/x-tar')"
   ]
  }
 ],
 "metadata": {
  "kernelspec": {
   "display_name": "Python 3",
   "language": "python",
   "name": "python3"
  },
  "language_info": {
   "codemirror_mode": {
    "name": "ipython",
    "version": 3
   },
   "file_extension": ".py",
   "mimetype": "text/x-python",
   "name": "python",
   "nbconvert_exporter": "python",
   "pygments_lexer": "ipython3",
   "version": "3.7.0"
  }
 },
 "nbformat": 4,
 "nbformat_minor": 2
}
